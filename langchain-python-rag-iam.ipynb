{
 "cells": [
  {
   "cell_type": "markdown",
   "metadata": {},
   "source": [
    "## LangChain application architecture\n",
    "\n",
    "The example application will accept a user prompt and answer the query based on additional context from simulated enterprise data.\n",
    "\n",
    "The secured LangChain application will use Pangea's AuthN service to authenticate users in their browser via its hosted login flow, providing a simple and secure way to add login functionality to your application.\n",
    "\n",
    "Once authenticated, the user's identity will be used to retrieve the authorization policy associated with their login, as defined in Pangea's AuthZ service.\n",
    "\n",
    "> You can integrate each service into your application with simple setup steps and a few lines of code, which will be covered later in this tutorial.\n",
    "\n",
    "The application will check which resources the user is allowed to access before adding them to the context of the prompt submitted to the LLM. This will enable users to ask questions related to enterprise data while ensuring secure access. \n",
    "\n",
    "<figure>\n",
    "  <img\n",
    "    alt=\"Diagram illustrating prompt & response exchange between user, Generative AI app, Pangea services, and LLM within a RAG application with IAM implemented.\"\n",
    "    title=\"Prompt & response diagram in a RAG application with identity and access management\"\n",
    "    src=\"./img/rag-iam-prompt-response-sequence-diagram.png\"\n",
    "    width=\"728\"\n",
    "  />\n",
    "  <figcaption>Prompt & response diagram in a RAG application with identity and access management</figcaption>\n",
    "</figure>"
   ]
  },
  {
   "cell_type": "markdown",
   "metadata": {},
   "source": [
    "## Build your secure LangChain app\n",
    "\n",
    "By following the steps below, you will build a simple RAG app protected with Pangea's security services."
   ]
  },
  {
   "cell_type": "markdown",
   "metadata": {},
   "source": [
    "### Create a context-based chain for answering questions\n",
    "\n",
    "The code below defines a simple chain that adds extra information to the context of the user prompt before generating a response."
   ]
  },
  {
   "cell_type": "code",
   "execution_count": 13,
   "metadata": {},
   "outputs": [],
   "source": [
    "import os\n",
    "from dotenv import load_dotenv\n",
    "from langchain_community.chat_models.cloudflare_workersai import ChatCloudflareWorkersAI\n",
    "from langchain_core.prompts import ChatPromptTemplate\n",
    "from langchain.chains.combine_documents import create_stuff_documents_chain\n",
    "\n",
    "load_dotenv()\n",
    "\n",
    "model = ChatCloudflareWorkersAI(\n",
    "        account_id=os.getenv(\"CLOUDFLARE_ACCOUNT_ID\"), \n",
    "        api_token=os.getenv(\"CLOUDFLARE_API_KEY\"), \n",
    "        model=\"@cf/meta/llama-3.3-70b-instruct-fp8-fast\",\n",
    "        temperature=0.0)\n",
    "prompt = ChatPromptTemplate.from_messages([\n",
    "    (\"system\", \"You are a helpful assistant answering questions based on the provided context: {context}. Be concise. If you don't find relevant information, say: I can't tell you.\"),\n",
    "    (\"human\", \"Question: {input}\"),\n",
    "])\n",
    "\n",
    "qa_chain = create_stuff_documents_chain(model, prompt)"
   ]
  },
  {
   "cell_type": "markdown",
   "metadata": {},
   "source": [
    "The [create_stuff_documents_chain](https://api.python.langchain.com/en/latest/chains/langchain.chains.combine_documents.stuff.create_stuff_documents_chain.html#langchain.chains.combine_documents.stuff.create_stuff_documents_chain) function returns a runnable that accepts a `context` argument, which should be a list of document objects. You can manually build this context, for example:"
   ]
  },
  {
   "cell_type": "code",
   "execution_count": 14,
   "metadata": {},
   "outputs": [],
   "source": [
    "from langchain.schema import Document\n",
    "\n",
    "docs = [\n",
    "    Document(page_content=\"\"\"\n",
    "    To enter Wonderland, follow the White Rabbit down the rabbit hole.\n",
    "    \"\"\")\n",
    "]"
   ]
  },
  {
   "cell_type": "markdown",
   "metadata": {},
   "source": [
    "\n",
    "You can now test your enhanced chain with the added context."
   ]
  },
  {
   "cell_type": "code",
   "execution_count": 15,
   "metadata": {},
   "outputs": [
    {
     "name": "stderr",
     "output_type": "stream",
     "text": [
      "2025-01-22 22:08:20 - INFO - Sending prompt to Cloudflare Workers AI: {'prompt': \"role: system, content: You are a helpful assistant answering questions based on the provided context: \\n    To enter Wonderland, follow the White Rabbit down the rabbit hole.\\n    . Be concise. If you don't find relevant information, say: I can't tell you.\\nrole: user, content: Question: Which entrance should I use?\", 'tools': None}\n"
     ]
    },
    {
     "name": "stdout",
     "output_type": "stream",
     "text": [
      "{'result': {'response': 'To enter Wonderland, follow the White Rabbit down the rabbit hole.'}, 'success': True, 'errors': [], 'messages': []}\n"
     ]
    }
   ],
   "source": [
    "print(qa_chain.invoke({\"input\": \"Which entrance should I use?\", \"context\": docs}))"
   ]
  },
  {
   "cell_type": "markdown",
   "metadata": {},
   "source": [
    "### Store context in a vector store\n",
    "\n",
    "To efficiently search for relevant information within a large volume of application-specific data based on its semantic meaning, the data must be embedded and represented as vectors.\n",
    "\n",
    "In the following example, we obtain context data from the local file system, organized by resource type, represented by folder names. We use the BGE model from Cloudflare Workers AI to embed this data and store the embeddings in a FAISS vector database. To maintain clear security boundaries, each vector is labeled with its corresponding resource type in the embedding metadata.\n",
    "\n",
    "The example data is organized in the `data` folder within this repository:\n",
    "\n",
    "```bash\n",
    "├── engineering\n",
    "│   └── patents.md\n",
    "├── finance\n",
    "│   └── expenses.md\n",
    "└── public\n",
    "    └── public-events-coc.md\n",
    "```"
   ]
  },
  {
   "cell_type": "markdown",
   "metadata": {},
   "source": [
    "#### Embed data\n",
    "\n",
    "Run the following code to load text content from the `data` folder and embed it into a vector store."
   ]
  },
  {
   "cell_type": "code",
   "execution_count": 16,
   "metadata": {},
   "outputs": [
    {
     "name": "stderr",
     "output_type": "stream",
     "text": [
      "100%|██████████| 3/3 [00:00<00:00, 123.40it/s]\n"
     ]
    }
   ],
   "source": [
    "from langchain_community.document_loaders import DirectoryLoader\n",
    "from langchain.text_splitter import CharacterTextSplitter\n",
    "from langchain_community.vectorstores import FAISS\n",
    "from langchain_community.embeddings.cloudflare_workersai import CloudflareWorkersAIEmbeddings\n",
    "\n",
    "# Use the current working directory\n",
    "data_path = os.path.join(os.getcwd(), \"data\")\n",
    "docs_loader = DirectoryLoader(data_path, show_progress=True)\n",
    "docs = docs_loader.load()\n",
    "\n",
    "for doc in docs:\n",
    "    assert doc.metadata[\"source\"]\n",
    "    doc.metadata[\"resource_type\"] = os.path.basename(os.path.dirname(doc.metadata[\"source\"]))\n",
    "\n",
    "text_splitter = CharacterTextSplitter(chunk_size=200, chunk_overlap=20)\n",
    "text_splits = text_splitter.split_documents(docs)\n",
    "\n",
    "embeddings = CloudflareWorkersAIEmbeddings(\n",
    "    account_id=os.getenv(\"CLOUDFLARE_ACCOUNT_ID\"), \n",
    "    api_token=os.getenv(\"CLOUDFLARE_API_KEY\"), \n",
    "    model_name=\"@cf/baai/bge-base-en-v1.5\",\n",
    ")\n",
    "vectorstore = FAISS.from_documents(documents=text_splits, embedding=embeddings)"
   ]
  },
  {
   "cell_type": "markdown",
   "metadata": {},
   "source": [
    "You can check which resource types were saved in the metadata."
   ]
  },
  {
   "cell_type": "code",
   "execution_count": 17,
   "metadata": {},
   "outputs": [
    {
     "name": "stdout",
     "output_type": "stream",
     "text": [
      "public\n",
      "engineering\n",
      "finance\n"
     ]
    }
   ],
   "source": [
    "print(\"\\n\".join([str(x.metadata[\"resource_type\"]) for x in docs]))"
   ]
  },
  {
   "cell_type": "markdown",
   "metadata": {},
   "source": [
    "### Create a retrieval chain\n",
    "\n",
    "Now, you can use the vector store to retrieve context relevant to the user's query. Use the [create_retrieval_chain](https://api.python.langchain.com/en/latest/chains/langchain.chains.retrieval.create_retrieval_chain.html) function to build a retrieval chain. When invoked, this chain will pass the additional context to the question-answering chain and return an object containing the original input, context, and answer. \n",
    "\n",
    "Enable the question-answering chain to run with additional context from the vector store using the following code."
   ]
  },
  {
   "cell_type": "code",
   "execution_count": 18,
   "metadata": {},
   "outputs": [],
   "source": [
    "from langchain.chains import create_retrieval_chain\n",
    "\n",
    "retriever = vectorstore.as_retriever()\n",
    "retrieval_chain = create_retrieval_chain(retriever, qa_chain)"
   ]
  },
  {
   "cell_type": "markdown",
   "metadata": {},
   "source": [
    "At this point, there are no restrictions on the context data that can be added to the user's prompt. To verify this, let's submit questions that draw information from different resources."
   ]
  },
  {
   "cell_type": "code",
   "execution_count": 19,
   "metadata": {},
   "outputs": [
    {
     "name": "stderr",
     "output_type": "stream",
     "text": [
      "2025-01-22 22:09:56 - INFO - Sending prompt to Cloudflare Workers AI: {'prompt': \"role: system, content: You are a helpful assistant answering questions based on the provided context: Patents\\n\\nWhite Knight's Inventions\\n\\nInvention Name Patent Number Rain-Proof Deal Box Patent #11223 Tears-bringing tune Pending Portable Bee-Hive Patent #55678 Mobile Mouse Traps Patent #44556\\n\\nExpenses\\n\\nTea Party\\n\\nExpense Category Cost Frequency Tea Leaves £50 weekly Cups and Saucers £20 monthly Table Maintenance £15 weekly Sugar Cubes £5 daily Butter for Watches £10 monthly Nap Cushions £40 annually Wine £0 not served\\n\\nNo Cats Allowed - Any cats, particularly the Cheshire Cat, are strictly forbidden as they disrupt gameplay with their vanishing and reappearing antics.. Be concise. If you don't find relevant information, say: I can't tell you.\\nrole: user, content: Question: Do we have any inventions that don't have a patent yet?\", 'tools': None}\n"
     ]
    },
    {
     "name": "stdout",
     "output_type": "stream",
     "text": [
      "\n",
      "Question: Do we have any inventions that don't have a patent yet?\n",
      "Answer: {'result': {'response': 'Yes, according to the provided context, the \"Tears-bringing tune\" invention is currently pending and does not have a patent number assigned to it yet.'}, 'success': True, 'errors': [], 'messages': []}\n"
     ]
    },
    {
     "name": "stderr",
     "output_type": "stream",
     "text": [
      "2025-01-22 22:09:59 - INFO - Sending prompt to Cloudflare Workers AI: {'prompt': \"role: system, content: You are a helpful assistant answering questions based on the provided context: No Cats Allowed - Any cats, particularly the Cheshire Cat, are strictly forbidden as they disrupt gameplay with their vanishing and reappearing antics.\\n\\nCode of Conduct for Public Events\\n\\nCroquet-Ground Rules\\n\\nThe Queen Always Wins - It's the Queen's game.\\n\\nThe Queen Never Loses - If the Queen loses, see Rule #1.\\n\\nUse Flamingos as Mallets - No exceptions. Flamingos must be treated properly; if they refuse, it's your fault.\\n\\nHedgehogs as Balls - Hedgehogs are to be rolled gently, or else.\\n\\nPatents\\n\\nWhite Knight's Inventions\\n\\nInvention Name Patent Number Rain-Proof Deal Box Patent #11223 Tears-bringing tune Pending Portable Bee-Hive Patent #55678 Mobile Mouse Traps Patent #44556. Be concise. If you don't find relevant information, say: I can't tell you.\\nrole: user, content: Question: Can I bring a pet to public events?\", 'tools': None}\n",
      "2025-01-22 22:10:04 - INFO - Sending prompt to Cloudflare Workers AI: {'prompt': \"role: system, content: You are a helpful assistant answering questions based on the provided context: Expenses\\n\\nTea Party\\n\\nExpense Category Cost Frequency Tea Leaves £50 weekly Cups and Saucers £20 monthly Table Maintenance £15 weekly Sugar Cubes £5 daily Butter for Watches £10 monthly Nap Cushions £40 annually Wine £0 not served\\n\\nCode of Conduct for Public Events\\n\\nCroquet-Ground Rules\\n\\nThe Queen Always Wins - It's the Queen's game.\\n\\nThe Queen Never Loses - If the Queen loses, see Rule #1.\\n\\nPatents\\n\\nWhite Knight's Inventions\\n\\nInvention Name Patent Number Rain-Proof Deal Box Patent #11223 Tears-bringing tune Pending Portable Bee-Hive Patent #55678 Mobile Mouse Traps Patent #44556. Be concise. If you don't find relevant information, say: I can't tell you.\\nrole: user, content: Question: What is our biggest cumulative expense?\", 'tools': None}\n"
     ]
    },
    {
     "name": "stdout",
     "output_type": "stream",
     "text": [
      "\n",
      "Question: Can I bring a pet to public events?\n",
      "Answer: {'result': {'response': \"No, you cannot bring cats, specifically the Cheshire Cat, to public events as they are strictly forbidden due to their disruptive behavior. However, the rules do not explicitly mention other types of pets, but it's best to exercise caution and avoid bringing any pets that might disrupt the gameplay, especially if it involves the Queen's game of croquet.\"}, 'success': True, 'errors': [], 'messages': []}\n",
      "\n",
      "Question: What is our biggest cumulative expense?\n",
      "Answer: {'result': {'response': 'To determine the biggest cumulative expense, we need to calculate the annual cost of each item. \\n\\n- Tea Leaves: £50/week * 52 weeks = £2,600/year\\n- Cups and Saucers: £20/month * 12 months = £240/year\\n- Table Maintenance: £15/week * 52 weeks = £780/year\\n- Sugar Cubes: £5/day * 365 days = £1,825/year\\n- Butter for Watches: £10/month * 12 months = £120/year\\n- Nap Cushions: £40/year (already annual)\\n- Wine: £0/year (not served)\\n\\nComparing these annual costs, the biggest cumulative expense is for Tea Leaves at £2,600/year.'}, 'success': True, 'errors': [], 'messages': []}\n"
     ]
    }
   ],
   "source": [
    "def get_answers():\n",
    "    question = \"Do we have any inventions that don't have a patent yet?\"\n",
    "    retrieval = retrieval_chain.invoke({\"input\": question})\n",
    "    print(f\"\\nQuestion: {question}\\nAnswer: {retrieval['answer']}\")\n",
    "\n",
    "    question = \"Can I bring a pet to public events?\"\n",
    "    retrieval = retrieval_chain.invoke({\"input\": question})\n",
    "    print(f\"\\nQuestion: {question}\\nAnswer: {retrieval['answer']}\")\n",
    "\n",
    "    question = \"What is our biggest cumulative expense?\"\n",
    "    retrieval = retrieval_chain.invoke({\"input\": question})\n",
    "    print(f\"\\nQuestion: {question}\\nAnswer: {retrieval['answer']}\")\n",
    "\n",
    "get_answers()"
   ]
  },
  {
   "cell_type": "markdown",
   "metadata": {},
   "source": [
    "> Different models, content sources, and text splitters can yield varying results."
   ]
  },
  {
   "cell_type": "markdown",
   "metadata": {},
   "source": [
    "### Add access control\n",
    "\n",
    "To implement authorization during the retrieval process, we will create a custom [VectorStoreRetriever](https://api.python.langchain.com/en/latest/vectorstores/langchain_core.vectorstores.VectorStoreRetriever.html#langchain_core.vectorstores.VectorStoreRetriever). The custom retriever will call the [AuthZ](https://pangea.cloud/services/authz/) service to filter the vector search results based on the policies defined in the service."
   ]
  },
  {
   "cell_type": "markdown",
   "metadata": {},
   "source": [
    "#### Enable AuthZ\n",
    "\n",
    "To host AuthZ and other Pangea services securing your chain, you'll need a free [Pangea account](https://pangea.cloud/signup). After creating your account, click **Skip** on the **Get started with a common service** screen. This will take you to the Pangea User Console, where you can enable the service.\n",
    "\n",
    "To enable the service, click its name in the left-hand sidebar and follow the prompts, accepting all defaults. When you’re finished, click **Done**.\n",
    "\n",
    "<figure>\n",
    "  <img\n",
    "    alt=\"Pangea Services in the Pangea User Console with the AuthZ service being highlighted\"\n",
    "    title=\"Pangea Services\"\n",
    "    src=\"./img/pangea-services-authz.png\"\n",
    "    width=\"728\"\n",
    "  />\n",
    "  <figcaption>Pangea Services</figcaption>\n",
    "</figure>\n",
    "\n",
    "Once the service is enabled, you will be taken to its Overview page. Capture the **Configuration Details**:\n",
    "\n",
    "- **Domain** (shared across all services in the project)\n",
    "- **Default Token** (a token provided by default for each service)\n",
    "\n",
    "You can copy these values by clicking on the respective property tiles.\n",
    "\n",
    "<figure>\n",
    "  <img\n",
    "    alt=\"Pangea AuthZ Service Overview page with the service Configuration Details in the Pangea User Console\"\n",
    "    title=\"Pangea Service Configuration Details\"\n",
    "    src=\"./img/pangea-service-authz-overview.png\"\n",
    "    width=\"728\"\n",
    "  />\n",
    "  <figcaption>Pangea Service Configuration Details</figcaption>\n",
    "</figure>\n",
    "\n",
    "Save the configuration values in your `.env`, for example:\n",
    "\n",
    "```bash\n",
    "# Cloudflare Workers AI\n",
    "CLOUDFLARE_ACCOUNT_ID=\"...\"\n",
    "CLOUDFLARE_API_KEY=\"...\"\n",
    "\n",
    "# Pangea\n",
    "PANGEA_DOMAIN=\"aws.us.pangea.cloud\"\n",
    "PANGEA_AUTHZ_TOKEN=\"pts_kwaun3...jhpqzf\"\n",
    "```\n",
    "\n",
    "> Instead of storing secrets locally and potentially exposing them to the environment, you can securely store your credentials in Pangea's [Vault](https://pangea.cloud/services/vault/), optionally enable rotation, and retrieve them dynamically at runtime. Enable Vault the same way you enabled other services by selecting it in the left-hand sidebar of the Pangea User Console. The [Manage Secrets](https://pangea.cloud/docs/vault/manage-secrets/secret-overview) documentation provides guidance on storing and using secrets in Vault.\n",
    ">\n",
    "> For example, you can store your Cloudflare API key in Vault and retrieve it using the [Vault APIs](https://pangea.cloud/docs/api/vault/v1-general#/v1/get). When you enable a new Pangea service, its default token is stored in Vault automatically.\n",
    "\n",
    "#### Set authorization policies\n",
    "\n",
    "The AuthZ service enables access control based on roles (RBAC), relationships (ReBAC), and attributes (ABAC). In this tutorial, we will use a simple RBAC authorization schema to control access to data stored in the vector database, categorized by resource type.\n",
    "\n",
    "> Centralizing the authorization policy allows real-time updates and enables all your apps to access the same policy dynamically.\n",
    "\n",
    "1. Click **Resource Types** in the left-hand sidebar, type `engineering` into the **Name** input for your first resource type, and click **Save**.\n",
    "1. Click **+ Resource Type** in the top right, and add another resource type named `finance`.\n",
    "\n",
    "   <figure>\n",
    "     <img\n",
    "       alt=\"Pangea AuthZ Service Resource Types page in the Pangea User Console\"\n",
    "       title=\"AuthZ Resource Types\"\n",
    "       src=\"./img/pangea-service-authz-resource-types.png\"\n",
    "       width=\"728\"\n",
    "     />\n",
    "     <figcaption>AuthZ Resource Types</figcaption>\n",
    "   </figure>\n",
    "\n",
    "1. Click **Roles & Access** in the left-hand sidebar, type `engineer` into the **Name** input for your first role, and click **Save**.\n",
    "1. On the `engineer` role screen, check the `read` permission for the `engineering` resource type.\n",
    "1. Click **+ Role** at the top right and add `analyst` role.\n",
    "1. On the `analyst` role screen, check the `read` permission for the `finance` resource type.\n",
    "1. Click **Save**.\n",
    "\n",
    "   <figure>\n",
    "     <img\n",
    "       alt=\"Pangea AuthZ Service Roles page in the Pangea User Console\"\n",
    "       title=\"AuthZ Roles\"\n",
    "       src=\"./img/pangea-service-authz-roles.png\"\n",
    "       width=\"728\"\n",
    "     />\n",
    "     <figcaption>AuthZ Roles</figcaption>\n",
    "   </figure>\n",
    "\n",
    "1. Click **Assigned Roles & Relations**, and in the opened dialog, assign the `analyst` role to user `alice`.\n",
    "\n",
    "   <figure>\n",
    "     <img\n",
    "       alt=\"Pangea AuthZ Service Assign Role or Relation dialog on the Assigned Roles & Relations page in the Pangea User Console\"\n",
    "       title=\"Assign Role or Relation\"\n",
    "       src=\"./img/pangea-service-authz-assignment.png\"\n",
    "       width=\"728\"\n",
    "     />\n",
    "     <figcaption>Assign Role or Relation</figcaption>\n",
    "   </figure>\n",
    "\n",
    "1. Click **+ Assign** in the **Assign Role or Relation** dialog.\n",
    "\n",
    "1. On the **Assigned Roles & Relations** page, click **+ Assign** to open the **Assign Role or Relation** dialog and assign the `engineer` role to user `bill`.\n",
    "\n",
    "1. Click **+ Assign** in the **Assign Role or Relation** dialog.\n",
    "\n",
    "1. On the **Assigned Roles & Relations** page, you will see the current assignments.\n",
    "\n",
    "   <figure>\n",
    "     <img\n",
    "       alt=\"Pangea AuthZ Service Assigned Roles & Relations page in the Pangea User Console\"\n",
    "       title=\"Assigned Roles & Relations\"\n",
    "       src=\"./img/pangea-service-authz-assignments.png\"\n",
    "       width=\"728\"\n",
    "     />\n",
    "     <figcaption>Assigned Roles & Relations</figcaption>\n",
    "   </figure>\n",
    "\n",
    "You can now check the permissions set in the authorization schema and the role assignments using AuthZ [APIs](https://pangea.cloud/docs/api/authz) or an [SDK](https://pangea.cloud/docs/sdk/python/authz) for the supported environments.\n",
    "\n",
    "> For more information on setting up the advanced capabilities of the AuthZ service and how to use it, visit the [AuthZ documentation](https://pangea.cloud/docs/authz/overview).\n",
    "\n",
    "#### Create an AuthZ retriever\n",
    "\n",
    "In the following example, we will extend the [VectorStoreRetriever](https://api.python.langchain.com/en/latest/vectorstores/langchain_core.vectorstores.VectorStoreRetriever.html#langchain_core.vectorstores.VectorStoreRetriever) class with a custom filter based on permissions and assignments saved in AuthZ. The retriever will use Pangea's Python [SDK](https://pangea.cloud/docs/sdk/python/authz#perform-a-check-request) to interact with the service in your Pangea project.\n",
    "\n",
    "The following code adds access control in the retrieval process."
   ]
  },
  {
   "cell_type": "code",
   "execution_count": 33,
   "metadata": {},
   "outputs": [],
   "source": [
    "from langchain_core.vectorstores import VectorStore, VectorStoreRetriever\n",
    "from pangea import PangeaConfig\n",
    "from pangea.services import AuthZ\n",
    "from pangea.services.authz import Resource, Subject\n",
    "\n",
    "class AuthzRetriever(VectorStoreRetriever):\n",
    "    def __init__(\n",
    "        self,\n",
    "        vectorstore: VectorStore,\n",
    "        subject_id: str,\n",
    "    ):\n",
    "        \"\"\"\n",
    "        Args:\n",
    "            vectorstore: Vector store used for retrieval\n",
    "            subject_id: Unique identifier for the subject, whose permissions will be used to filter documents\n",
    "        \"\"\"\n",
    "\n",
    "        super().__init__(vectorstore=vectorstore)\n",
    "\n",
    "        self._client = AuthZ(token=os.getenv(\"PANGEA_AUTHZ_TOKEN\"), config=PangeaConfig(domain=os.getenv(\"PANGEA_DOMAIN\")))\n",
    "        self._subject = Subject(type=\"user\", id=subject_id)\n",
    "        self.search_kwargs[\"filter\"] = self._filter\n",
    "\n",
    "    def _filter(self, metadata: dict[str, str]) -> bool:\n",
    "        \"\"\"Filter documents based on the subject's permissions in AuthZ.\"\"\"\n",
    "\n",
    "        resource_type: str | None = metadata.get(\"resource_type\")\n",
    "\n",
    "        # Disallow access to untagged resources.\n",
    "        if not resource_type:\n",
    "            return False\n",
    "\n",
    "        # Allow unrestricted access to public resources.\n",
    "        if resource_type == \"public\":\n",
    "            return True\n",
    "\n",
    "        response = self._client.check(resource=Resource(type=resource_type), action=\"read\", subject=self._subject)\n",
    "\n",
    "        return response.result is not None and response.result.allowed"
   ]
  },
  {
   "cell_type": "markdown",
   "metadata": {},
   "source": [
    "#### Create a retrieval chain with built-in access control\n",
    "\n",
    "You can now create a retriever for a username specified in your AuthZ policies to use in a retrieval chain. Initialize the AuthZ retriever with the username `bill`."
   ]
  },
  {
   "cell_type": "code",
   "execution_count": 38,
   "metadata": {},
   "outputs": [],
   "source": [
    "# Load updated AuthZ variables\n",
    "load_dotenv(override=True)\n",
    "\n",
    "retriever = AuthzRetriever(vectorstore=vectorstore, subject_id=\"vanessa\")\n",
    "retrieval_chain = create_retrieval_chain(retriever, qa_chain)"
   ]
  },
  {
   "cell_type": "markdown",
   "metadata": {},
   "source": [
    "\n",
    "You will then receive answers based only on the information the user is authorized to access."
   ]
  },
  {
   "cell_type": "code",
   "execution_count": 39,
   "metadata": {},
   "outputs": [
    {
     "name": "stderr",
     "output_type": "stream",
     "text": [
      "2025-01-22 22:16:13 - INFO - Sending prompt to Cloudflare Workers AI: {'prompt': \"role: system, content: You are a helpful assistant answering questions based on the provided context: Expenses\\n\\nTea Party\\n\\nExpense Category Cost Frequency Tea Leaves £50 weekly Cups and Saucers £20 monthly Table Maintenance £15 weekly Sugar Cubes £5 daily Butter for Watches £10 monthly Nap Cushions £40 annually Wine £0 not served\\n\\nNo Cats Allowed - Any cats, particularly the Cheshire Cat, are strictly forbidden as they disrupt gameplay with their vanishing and reappearing antics.\\n\\nUse Flamingos as Mallets - No exceptions. Flamingos must be treated properly; if they refuse, it's your fault.\\n\\nHedgehogs as Balls - Hedgehogs are to be rolled gently, or else.. Be concise. If you don't find relevant information, say: I can't tell you.\\nrole: user, content: Question: Do we have any inventions that don't have a patent yet?\", 'tools': None}\n"
     ]
    },
    {
     "name": "stdout",
     "output_type": "stream",
     "text": [
      "\n",
      "Question: Do we have any inventions that don't have a patent yet?\n",
      "Answer: {'result': {'response': \"I can't tell you. The provided context appears to be related to a unique tea party setting with specific rules and expenses, but it does not mention any information about inventions or patents.\"}, 'success': True, 'errors': [], 'messages': []}\n"
     ]
    },
    {
     "name": "stderr",
     "output_type": "stream",
     "text": [
      "2025-01-22 22:16:15 - INFO - Sending prompt to Cloudflare Workers AI: {'prompt': \"role: system, content: You are a helpful assistant answering questions based on the provided context: No Cats Allowed - Any cats, particularly the Cheshire Cat, are strictly forbidden as they disrupt gameplay with their vanishing and reappearing antics.\\n\\nCode of Conduct for Public Events\\n\\nCroquet-Ground Rules\\n\\nThe Queen Always Wins - It's the Queen's game.\\n\\nThe Queen Never Loses - If the Queen loses, see Rule #1.\\n\\nUse Flamingos as Mallets - No exceptions. Flamingos must be treated properly; if they refuse, it's your fault.\\n\\nHedgehogs as Balls - Hedgehogs are to be rolled gently, or else.\\n\\nExpenses\\n\\nTea Party. Be concise. If you don't find relevant information, say: I can't tell you.\\nrole: user, content: Question: Can I bring a pet to public events?\", 'tools': None}\n"
     ]
    },
    {
     "name": "stdout",
     "output_type": "stream",
     "text": [
      "\n",
      "Question: Can I bring a pet to public events?\n",
      "Answer: {'result': {'response': \"According to the rules, cats, particularly the Cheshire Cat, are strictly forbidden from public events as they disrupt gameplay. However, it doesn't mention other types of pets. But, considering the rules focus on specific creatures like flamingos and hedgehogs for the game, it's best to assume that pets, in general, might not be allowed to avoid disruptions. If you're unsure, it's best to leave your pet at home to ensure a smooth and enjoyable experience for everyone.\"}, 'success': True, 'errors': [], 'messages': []}\n"
     ]
    },
    {
     "name": "stderr",
     "output_type": "stream",
     "text": [
      "2025-01-22 22:16:20 - INFO - Sending prompt to Cloudflare Workers AI: {'prompt': 'role: system, content: You are a helpful assistant answering questions based on the provided context: Expenses\\n\\nTea Party\\n\\nExpense Category Cost Frequency Tea Leaves £50 weekly Cups and Saucers £20 monthly Table Maintenance £15 weekly Sugar Cubes £5 daily Butter for Watches £10 monthly Nap Cushions £40 annually Wine £0 not served\\n\\nCode of Conduct for Public Events\\n\\nCroquet-Ground Rules\\n\\nThe Queen Always Wins - It\\'s the Queen\\'s game.\\n\\nThe Queen Never Loses - If the Queen loses, see Rule #1.\\n\\n\"Off with Their Heads!\" Applies - Any form of disobedience or error may lead to immediate execution. Stay alert!. Be concise. If you don\\'t find relevant information, say: I can\\'t tell you.\\nrole: user, content: Question: What is our biggest cumulative expense?', 'tools': None}\n"
     ]
    },
    {
     "name": "stdout",
     "output_type": "stream",
     "text": [
      "\n",
      "Question: What is our biggest cumulative expense?\n",
      "Answer: {'result': {'response': \"To determine the biggest cumulative expense, let's analyze the given information:\\n\\n1. Tea Leaves: £50/week\\n2. Cups and Saucers: £20/month\\n3. Table Maintenance: £15/week\\n4. Sugar Cubes: £5/day\\n5. Butter for Watches: £10/month\\n6. Nap Cushions: £40/year\\n7. Wine: £0 (not served)\\n\\nFirst, we need to convert all frequencies to a common unit, such as years, for easier comparison:\\n\\n1. Tea Leaves: £50/week * 52 weeks/year = £2600/year\\n2. Cups and Saucers: £20/month * 12 months/year = £240/year\\n3. Table Maintenance: £15/week * 52 weeks/year = £780/year\\n4. Sugar Cubes: £5/day * 365 days/year = £1825/year\\n5. Butter for Watches: £10/month * 12 months/year = £120/year\\n6. Nap Cushions: £40/year (already in years)\\n7. Wine: £0/year\\n\\nNow, let's rank these expenses from highest to lowest:\\n1. Tea Leaves: £2600/year\\n2. Sugar Cubes: £1825/year\\n3. Table Maintenance: £780/year\\n4. Cups and Saucers: £240/year\\n5. Butter for Watches: £120/year\\n6. Nap Cushions: £40/year\\n\\nThe biggest cumulative expense is the cost of Tea Leaves, which amounts to £2600 per year.\"}, 'success': True, 'errors': [], 'messages': []}\n"
     ]
    }
   ],
   "source": [
    "get_answers()"
   ]
  },
  {
   "cell_type": "markdown",
   "metadata": {},
   "source": [
    "\n",
    "Note that the engineer `bill` does not have access to financial data."
   ]
  },
  {
   "cell_type": "markdown",
   "metadata": {},
   "source": [
    "### Add authentication\n",
    "\n",
    "To reduce risks associated with public access to your application, you can require users to sign in. After authentication, the user’s ID can be used to retrieve the authorization policies stored in AuthZ.\n",
    "\n",
    "You can easily add login functionality to your application using the [AuthN](https://pangea.cloud/services/authn/) service. It allows users to sign in to the Pangea-hosted authorization server using their browser. Your application will then perform an authorization code flow using the Pangea SDK you’ve already imported to communicate with the AuthZ service. For demonstration purposes, we will use Flask as the client server.\n",
    "\n",
    "#### Enable AuthN\n",
    "\n",
    "If you are on the AuthZ page, navigate to the list of services by clicking **Back to Main Menu** in the top left corner. This will return you to the project page in your Pangea User Console, where enabled services will be marked with a green dot.\n",
    "\n",
    "Click **AuthN** in the left-hand sidebar and follow the prompts, accepting all defaults. When you’re finished, click **Done** and **Finish**.\n",
    "\n",
    "When the service is enabled, you will be taken to its Overview page. Capture the AuthN **Configuration Details**:\n",
    "\n",
    "- **Default Token** (a token provided by default for each service)\n",
    "- **Hosted Login** (the login URL that your application will redirect users to sign in)\n",
    "\n",
    "You can copy these values by clicking on the respective property tiles.\n",
    "\n",
    "<figure>\n",
    "  <img\n",
    "    alt=\"Pangea AuthN Service Overview page with the service Configuration Details in the Pangea User Console\"\n",
    "    title=\"AuthN Configuration Details\"\n",
    "    src=\"./img/pangea-service-authn-overview.png\"\n",
    "    width=\"728\"\n",
    "  />\n",
    "  <figcaption>AuthN Configuration Details</figcaption>\n",
    "</figure>\n",
    "\n",
    "Save the configuration values in your `.env`, for example:\n",
    "\n",
    "```bash\n",
    "# Cloudflare Workers AI\n",
    "CLOUDFLARE_ACCOUNT_ID=\"...\"\n",
    "CLOUDFLARE_API_KEY=\"...\"\n",
    "\n",
    "# Pangea\n",
    "PANGEA_DOMAIN=\"aws.us.pangea.cloud\"\n",
    "PANGEA_AUTHZ_TOKEN=\"pts_kwaun3...jhpqzf\"\n",
    "PANGEA_AUTHN_HOSTED_LOGIN=\"https://pdn-lqcuqlhizxsjrpbewgdrpi53cc72gdit.login.aws.us.pangea.cloud\"\n",
    "PANGEA_AUTHN_CLIENT_TOKEN=\"pcl_pgd43k...yoy6kn\"\n",
    "```\n",
    "\n",
    "#### Enable Hosted Login flow\n",
    "\n",
    "An easy and secure way to authenticate your users with AuthN is to use its [Hosted Login](https://pangea.cloud/docs/authn/hosted-login/), which implements the OAuth 2 Authorization Code grant. The Pangea SDK will manage the flow, providing user profile information and allowing you to use the user's login to verify their permissions defined in AuthZ.\n",
    "\n",
    "1. Click **General** in the left-hand sidebar.\n",
    "1. On the **Authentication Settings** screen, click **Redirect (Callback) Settings**.\n",
    "1. In the right pane, click **+ Redirect**.\n",
    "1. Enter `http://localhost:3080` in the URL input field.\n",
    "1. Click **Save** in the **Add redirect** dialog.\n",
    "1. Click **Save** again in the **Redirect (Callback) Settings** pane on the right.\n",
    "\n",
    "> For more information on setting up advanced capabilities of the AuthN service (such as sign-in and sign-up options, security controls, session management, and more) visit the [AuthN documentation](https://pangea.cloud/docs/authn/general).\n",
    "\n",
    "#### Require users to sign in\n",
    "\n",
    "Add login functionality to your application with the following code. This will open the hosted login page in your browser. After creating an account in AuthN and signing in, the script will request the user profile from AuthN and store the username in a variable. This variable will then be passed to the AuthZ retriever, ensuring that only authorized data is accessible during retrieval.\n",
    "\n",
    "When you run the code below, sign up as `alice` in your browser, using your email during the sign-up process, and verify it. Once signed up and signed in successfully, you can close the page and return to your notebook. The script will receive the user profile and store the username in the corresponding variable.\n",
    "\n",
    "<figure>\n",
    "  <img\n",
    "    alt=\"Pangea AuthN Sign Up page\"\n",
    "    title=\"AuthN Sign Up page\"\n",
    "    src=\"./img/authn-sign-up.png\"\n",
    "    width=\"512\"\n",
    "  />\n",
    "  <figcaption>AuthN Sign Up page</figcaption>\n",
    "</figure>"
   ]
  },
  {
   "cell_type": "code",
   "execution_count": 23,
   "metadata": {},
   "outputs": [
    {
     "name": "stdout",
     "output_type": "stream",
     "text": [
      "Opening browser to authenticate...\n",
      " * Serving Flask app '__main__'\n",
      " * Debug mode: off\n"
     ]
    },
    {
     "name": "stderr",
     "output_type": "stream",
     "text": [
      "\u001b[31m\u001b[1mWARNING: This is a development server. Do not use it in a production deployment. Use a production WSGI server instead.\u001b[0m\n",
      " * Running on http://127.0.0.1:3080\n",
      "\u001b[33mPress CTRL+C to quit\u001b[0m\n",
      "127.0.0.1 - - [26/Oct/2024 18:24:08] \"GET /callback?code=pmc_rgcp2tvxmh7ccyqdmijwgpafp2nyte4p&state=e36a837f4279e397a2ff77f1f10597b055af64a2794231e513371ccf08523a78 HTTP/1.1\" 200 -\n"
     ]
    },
    {
     "name": "stdout",
     "output_type": "stream",
     "text": [
      "Authenticated as alice\n"
     ]
    }
   ],
   "source": [
    "import threading\n",
    "import urllib\n",
    "import webbrowser\n",
    "from functools import partial\n",
    "from queue import Queue\n",
    "from secrets import token_hex\n",
    "from pangea.services import AuthN\n",
    "from flask import Flask, request, abort\n",
    "\n",
    "# Queue to share data between threads\n",
    "queue = Queue()\n",
    "\n",
    "# Initialize AuthN client\n",
    "authn = AuthN(token=os.getenv(\"PANGEA_AUTHN_CLIENT_TOKEN\"), config=PangeaConfig(domain=os.getenv(\"PANGEA_DOMAIN\")))\n",
    "\n",
    "# Initialize Flask app\n",
    "app = Flask(__name__)\n",
    "\n",
    "# Generate a unique state token for verifying callback\n",
    "state = token_hex(32)\n",
    "\n",
    "# Define the redirect route\n",
    "@app.route(\"/callback\")\n",
    "def callback():\n",
    "    # Verify that the state param matches the original.\n",
    "    if request.args.get(\"state\") != state:\n",
    "        return abort(401)\n",
    "\n",
    "    auth_code = request.args.get(\"code\")\n",
    "    if auth_code is None:\n",
    "        return abort(401)\n",
    "\n",
    "    # Exchange the authorization code for the user's tokens and info.\n",
    "    response = authn.client.userinfo(code=auth_code)\n",
    "\n",
    "    if not response.success or response.result is None or response.result.active_token is None:\n",
    "        return abort(401)\n",
    "\n",
    "    queue.put(response.result.active_token.token)\n",
    "    queue.task_done()\n",
    "\n",
    "    return \"Authenticated, you can close this tab.\"\n",
    "\n",
    "# Start the Flask server in a separate daemon thread\n",
    "def run_server():\n",
    "    app.run(port=3080, debug=False)\n",
    "\n",
    "# Run Flask server as a daemon thread\n",
    "server_thread = threading.Thread(target=run_server, daemon=True)\n",
    "server_thread.start()\n",
    "\n",
    "# Open a browser to authenticate\n",
    "authn_hosted_login = os.getenv(\"PANGEA_AUTHN_HOSTED_LOGIN\")\n",
    "redirect_uri = \"http://localhost:3080/callback\"\n",
    "url_parameters = {\n",
    "    \"redirect_uri\": redirect_uri,\n",
    "    \"response_type\": \"code\",\n",
    "    \"state\": state,\n",
    "}\n",
    "url = f\"{authn_hosted_login}?{urllib.parse.urlencode(url_parameters)}\"\n",
    "\n",
    "print(\"Opening browser to authenticate...\")\n",
    "webbrowser.open_new_tab(url)\n",
    "\n",
    "# Wait for the server to receive the auth code.\n",
    "token = queue.get(block=True)\n",
    "check_result = authn.client.token_endpoints.check(token).result\n",
    "assert check_result\n",
    "username = check_result.owner\n",
    "\n",
    "print(f\"Authenticated as {username}\")"
   ]
  },
  {
   "cell_type": "markdown",
   "metadata": {},
   "source": [
    "You can now pass the username dynamically to your AuthZ retriever using the value returned from AuthN, getting answers based on the information accessible to the authenticated user."
   ]
  },
  {
   "cell_type": "code",
   "execution_count": 24,
   "metadata": {},
   "outputs": [
    {
     "name": "stdout",
     "output_type": "stream",
     "text": [
      "\n",
      "Question: Do we have any inventions that don't have a patent yet?\n",
      "Answer: I can't tell you.\n",
      "\n",
      "Question: Can I bring a pet to public events?\n",
      "Answer: No cats are allowed at public events, as they disrupt gameplay. Other pets are not mentioned, so I can't tell you.\n",
      "\n",
      "Question: What is our biggest cumulative expense?\n",
      "Answer: The biggest cumulative expense is for Tea Leaves, which costs £50 weekly. Over a year, this amounts to £2,600 (£50 x 52 weeks).\n"
     ]
    }
   ],
   "source": [
    "retriever = AuthzRetriever(vectorstore=vectorstore, subject_id=username)\n",
    "retrieval_chain = create_retrieval_chain(retriever, qa_chain)\n",
    "\n",
    "get_answers()"
   ]
  },
  {
   "cell_type": "markdown",
   "metadata": {},
   "source": [
    "\n",
    "Note that the analyst `alice` cannot include the engineering context in her conversation with the LLM. But rest assured, whether you're an engineer or an analyst, you must leave your cat at home when heading to a corporate party in this office."
   ]
  },
  {
   "cell_type": "markdown",
   "metadata": {},
   "source": [
    "\n",
    "## Conclusion\n",
    "\n",
    "Adding authentication and authorization to your RAG app enables the secure use of business-specific information in a generative AI application. By making minor modifications to the existing code, you can create an identity and authorization-aware experience in your LangChain apps using Pangea-hosted AuthN and AuthZ services.\n",
    "\n",
    "For more examples and detailed implementations, explore the following GitHub repositories:\n",
    "\n",
    "- [Authenticating Users for Access Control with RAG for LangChain in Python](https://github.com/pangeacyber/langchain-python-user-authn)\n",
    "    \n",
    "-  [User-based Access Control with RAG for LangChain in Python](https://github.com/pangeacyber/langchain-python-rag-authz)"
   ]
  }
 ],
 "metadata": {
  "kernelspec": {
   "display_name": "Python 3",
   "language": "python",
   "name": "python3"
  },
  "language_info": {
   "codemirror_mode": {
    "name": "ipython",
    "version": 3
   },
   "file_extension": ".py",
   "mimetype": "text/x-python",
   "name": "python",
   "nbconvert_exporter": "python",
   "pygments_lexer": "ipython3",
   "version": "3.12.1"
  }
 },
 "nbformat": 4,
 "nbformat_minor": 2
}
